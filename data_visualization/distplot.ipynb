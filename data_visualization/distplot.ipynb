{
 "cells": [
  {
   "cell_type": "code",
   "execution_count": 2,
   "metadata": {},
   "outputs": [],
   "source": [
    "import pandas as pd\n",
    "import matplotlib.pyplot as plt\n",
    "import seaborn as sns\n",
    "from sklearn.datasets import load_iris"
   ]
  },
  {
   "cell_type": "code",
   "execution_count": 40,
   "metadata": {},
   "outputs": [
    {
     "name": "stdout",
     "output_type": "stream",
     "text": [
      "     sepal length (cm)  sepal width (cm)  petal length (cm)  petal width (cm)\n",
      "1                  5.1               3.5                1.4               0.2\n",
      "2                  4.9               3.0                1.4               0.2\n",
      "3                  4.7               3.2                1.3               0.2\n",
      "4                  4.6               3.1                1.5               0.2\n",
      "5                  5.0               3.6                1.4               0.2\n",
      "..                 ...               ...                ...               ...\n",
      "146                6.7               3.0                5.2               2.3\n",
      "147                6.3               2.5                5.0               1.9\n",
      "148                6.5               3.0                5.2               2.0\n",
      "149                6.2               3.4                5.4               2.3\n",
      "150                5.9               3.0                5.1               1.8\n",
      "\n",
      "[150 rows x 4 columns]\n"
     ]
    }
   ],
   "source": [
    "iris_data = load_iris()\n",
    "col_id = [i+1 for i in range(len(iris_data.data))]\n",
    "iris_pd = pd.DataFrame(iris_data.data, index=col_id, columns=iris_data.feature_names)\n",
    "print(iris_pd)\n",
    "\n",
    "iris_pd.columns = iris_data.feature_names\n"
   ]
  },
  {
   "cell_type": "code",
   "execution_count": 48,
   "metadata": {},
   "outputs": [
    {
     "data": {
      "text/plain": [
       "<matplotlib.axes._subplots.AxesSubplot at 0x7fa3c04e6a50>"
      ]
     },
     "execution_count": 48,
     "metadata": {},
     "output_type": "execute_result"
    },
    {
     "data": {
      "image/png": "[encoded data removed]",
      "text/plain": [
       "<Figure size 432x288 with 1 Axes>"
      ]
     },
     "metadata": {
      "needs_background": "light"
     },
     "output_type": "display_data"
    }
   ],
   "source": [
    "sns.distplot(a=iris_pd['petal length (cm)'], kde=False)"
   ]
  },
  {
   "cell_type": "code",
   "execution_count": null,
   "metadata": {},
   "outputs": [],
   "source": []
  }
 ],
 "metadata": {
  "kernelspec": {
   "display_name": "Python 3",
   "language": "python",
   "name": "python3"
  },
  "language_info": {
   "codemirror_mode": {
    "name": "ipython",
    "version": 3
   },
   "file_extension": ".py",
   "mimetype": "text/x-python",
   "name": "python",
   "nbconvert_exporter": "python",
   "pygments_lexer": "ipython3",
   "version": "3.7.4"
  }
 },
 "nbformat": 4,
 "nbformat_minor": 4
}
